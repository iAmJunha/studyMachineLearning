{
 "cells": [
  {
   "cell_type": "markdown",
   "metadata": {},
   "source": [
    "# 그래프 그리기 - 배포용"
   ]
  },
  {
   "cell_type": "markdown",
   "metadata": {},
   "source": [
    "## 2차원 그래프 그리기"
   ]
  },
  {
   "cell_type": "markdown",
   "metadata": {},
   "source": [
    "### 임의의 그래프 그리기"
   ]
  },
  {
   "cell_type": "markdown",
   "metadata": {},
   "source": [
    "그래프를 그리기 위해서는 matplotlib의 pyplot 라이브러리를 import 함.\n",
    "주피트 노트북 안에 그래프를 표시하기 위해서는 %matplotlib inline 명령을 추가함.\n",
    "plt.plot(x,y)로 그래프가 등록되어 plt.show()를 통해 그려집니다."
   ]
  },
  {
   "cell_type": "code",
   "execution_count": null,
   "metadata": {},
   "outputs": [],
   "source": [
    "# 리스트 1-(1)\n",
    "import numpy as np\n",
    "import matplotlib.pyplot as plt\n",
    "%matplotlib inline         \n",
    "\n",
    "# data 작성\n",
    "np.random.seed(1) # 난수를 고정\n",
    "x = np.arange(10)\n",
    "y = np.random.rand(10)\n",
    "\n",
    "# 그래프 표시\n",
    "plt.plot(x, y) # 꺾은선 그래프를 등록\n",
    "plt.show() # 그래프 그리기"
   ]
  },
  {
   "cell_type": "markdown",
   "metadata": {},
   "source": [
    "지금까지의 이력을 메모리에서 삭제하려면 %reset 명령을 입력합니다."
   ]
  },
  {
   "cell_type": "code",
   "execution_count": null,
   "metadata": {
    "scrolled": true
   },
   "outputs": [],
   "source": [
    "%reset"
   ]
  },
  {
   "cell_type": "markdown",
   "metadata": {},
   "source": [
    "### 예) $f(x) = (x-2)x(x+2)$에 대한 그래프 그리기"
   ]
  },
  {
   "cell_type": "code",
   "execution_count": null,
   "metadata": {},
   "outputs": [],
   "source": [
    "# 리스트 2-(1)\n",
    "import numpy as np\n",
    "import matplotlib.pyplot as plt\n",
    "%matplotlib inline\n",
    "def f(x):\n",
    "    return None           # None 대신에 알맞은 코드로 채우시오"
   ]
  },
  {
   "cell_type": "code",
   "execution_count": null,
   "metadata": {},
   "outputs": [],
   "source": [
    "# 리스트 2-(2)\n",
    "print(f(1))"
   ]
  },
  {
   "cell_type": "code",
   "execution_count": null,
   "metadata": {},
   "outputs": [],
   "source": [
    "# 리스트 2-(3)\n",
    "print(f(np.array([1, 2, 3])))"
   ]
  },
  {
   "cell_type": "markdown",
   "metadata": {},
   "source": [
    "그래프를 그리는 $x$의 범위를 -3에서 3까지로 하고, 그 범위에서 계산한 $x$를 간격 0.5로 정의해 봅시다."
   ]
  },
  {
   "cell_type": "code",
   "execution_count": null,
   "metadata": {},
   "outputs": [],
   "source": [
    "# 리스트 2-(4)\n",
    "x = None      # None 대신에 알맞은 코드로 채우시오\n",
    "print(x)"
   ]
  },
  {
   "cell_type": "markdown",
   "metadata": {},
   "source": [
    "**linespace(n1,n2,n)**하면 범위 n1에서 n2 사이를 일정 간격 n개 구간으로 나눈 값을 돌려줍니다."
   ]
  },
  {
   "cell_type": "code",
   "execution_count": null,
   "metadata": {},
   "outputs": [],
   "source": [
    "# 리스트 2-(5)\n",
    "x = np.linspace(-3, 3, 10)\n",
    "print(np.round(x, 2))"
   ]
  },
  {
   "cell_type": "code",
   "execution_count": null,
   "metadata": {},
   "outputs": [],
   "source": [
    "# 리스트 2-(6)\n",
    "plt.plot(x, f(x))\n",
    "plt.show()"
   ]
  },
  {
   "cell_type": "markdown",
   "metadata": {},
   "source": [
    "### 그래프 장식하기"
   ]
  },
  {
   "cell_type": "code",
   "execution_count": null,
   "metadata": {},
   "outputs": [],
   "source": [
    "# 리스트 2-(7)\n",
    "# 함수를 정의\n",
    "\n",
    "def f2(x, w):\n",
    "    return (x - w) * x * (x + 2) # (A) 함수 정의\n",
    "\n",
    "\n",
    "# x를 정의\n",
    "x = None     # (B) x를 -3에서 3까지 100 구간으로 분할하기, # None 대신에 알맞은 코드로 채우시오\n",
    "\n",
    "# 차트 묘사\n",
    "plt.plot(x, f2(x, 2), color='black', label='$w=2$') #(C)\n",
    "plt.plot(x, f2(x, 1), color='cornflowerblue', label='$w=1$') #(D)\n",
    "plt.legend(loc=\"upper left\") # (E) 범례 표시 위치 (upper left, upper right, lower left, lower right)\n",
    "plt.ylim(-15, 15) # (F) y 축의 범위\n",
    "plt.title('$f_2(x)$') # (G) 제목\n",
    "plt.xlabel('$x$') # (H) x 라벨\n",
    "plt.ylabel('$y$') # (I) y 라벨\n",
    "plt.grid(True) # (J) 그리드\n",
    "plt.show()"
   ]
  },
  {
   "cell_type": "markdown",
   "metadata": {},
   "source": [
    "그래프에 사용할 수 있는 색상 목록:"
   ]
  },
  {
   "cell_type": "code",
   "execution_count": null,
   "metadata": {
    "scrolled": false
   },
   "outputs": [],
   "source": [
    "# 리스트 2-(8)\n",
    "import matplotlib\n",
    "matplotlib.colors.cnames"
   ]
  },
  {
   "cell_type": "markdown",
   "metadata": {},
   "source": [
    "기본 색상은 r 빨강, b 파랑, g 녹색, c 시안, m 마젠타, y 노란색, k 검정, w 흰색과 알파벳 문자로 지정할 수 있습니다."
   ]
  },
  {
   "cell_type": "markdown",
   "metadata": {},
   "source": [
    "### 그래프를 여러개 보여주기 - subplot"
   ]
  },
  {
   "cell_type": "markdown",
   "metadata": {},
   "source": [
    "plt.subplot(n1,n2,n)을 사용하면 전체를 (n1,n2) 행렬처럼 세로 n1, 가로 n2로 나눈 n번째에 그래프가 그려집니다. (row-majer ordering)\n",
    "- **주의사항:** n은 0이 아닌 1부터 시작합니다."
   ]
  },
  {
   "cell_type": "code",
   "execution_count": null,
   "metadata": {
    "scrolled": true
   },
   "outputs": [],
   "source": [
    "# 리스트 2-(9)\n",
    "plt.figure(figsize=(10, 3)) # (A) figure 지정\n",
    "plt.subplots_adjust(wspace=0.5, hspace=0.5) # (B) 그래프의 간격을 지정\n",
    "for i in range(6):\n",
    "    plt.subplot(2, 3, i + 1) # (C) 그래프 묘사의 위치를 지정\n",
    "    plt.title(i + 1)\n",
    "    plt.plot(x, f2(x, i), 'k')\n",
    "    plt.ylim(-20, 20)\n",
    "    plt.grid(True)\n",
    "plt.show()"
   ]
  },
  {
   "cell_type": "markdown",
   "metadata": {},
   "source": [
    "## 3차원 그래프 그리기"
   ]
  },
  {
   "cell_type": "markdown",
   "metadata": {},
   "source": [
    "예) $f(x_0,x_1) = (2x_0^2+x_1^2)exp(-(2x_0^2+x_1^2))$"
   ]
  },
  {
   "cell_type": "code",
   "execution_count": null,
   "metadata": {},
   "outputs": [],
   "source": [
    "# 리스트 3-(1)\n",
    "import numpy as np\n",
    "import matplotlib.pyplot as plt\n",
    "\n",
    "# 함수 f3을 정의\n",
    "def f3(x0, x1):      # 위의 예제 함수 f(x0,x1)에 대한 구현\n",
    "    r = None         # None 대신에 알맞은 코드로 채우시오\n",
    "    ans = None       # None 대신에 알맞은 코드로 채우시오\n",
    "    return ans\n",
    "\n",
    "# x0, x1에서 각각 f3을 계산\n",
    "xn = 9\n",
    "x0 = None     # (A) x0의 범위지정 : -2에서 2까지 xn 구간으로 분할하기\n",
    "x1 = None     # (B) x1의 범위지정 : -2에서 2까지 xn 구간으로 분할하기\n",
    "y = None      # (C) y는 f3(x0,x1) 값을 저장하기 위한 2차원 배열로 원소들 값을 모두 0으로 초기화 한다.\n",
    "for i1 in range(xn):\n",
    "    for i0 in range(xn):\n",
    "        y[i1, i0] = f3(x0[i0], x1[i1]) # (D)  y[i1,i0]에서 i1,i0의 순서에 유의하기 바람"
   ]
  },
  {
   "cell_type": "code",
   "execution_count": null,
   "metadata": {},
   "outputs": [],
   "source": [
    "# 리스트 3-(2)\n",
    "print(x0)"
   ]
  },
  {
   "cell_type": "code",
   "execution_count": null,
   "metadata": {
    "scrolled": true
   },
   "outputs": [],
   "source": [
    "# 리스트 3-(3)\n",
    "print(np.round(y, 1))"
   ]
  },
  {
   "cell_type": "markdown",
   "metadata": {},
   "source": [
    "**실습문제**: 리스트 3-(1)의 아래 부분에서 중첩된 for 문 대신에 슬라이싱 기능을 사용하여 for 문 하나로 재구현 하시오."
   ]
  },
  {
   "cell_type": "code",
   "execution_count": null,
   "metadata": {
    "scrolled": false
   },
   "outputs": [],
   "source": []
  },
  {
   "cell_type": "markdown",
   "metadata": {},
   "source": [
    "### 수치를 색으로 표현하기: pcolor"
   ]
  },
  {
   "cell_type": "code",
   "execution_count": null,
   "metadata": {
    "scrolled": false
   },
   "outputs": [],
   "source": [
    "# 리스트 3-(4)\n",
    "plt.figure(figsize=(3.5, 3))\n",
    "plt.gray() # (A)    plt.gray() 외에도 plt.jet(), plt.pink(), plt.bone 등 다양한 그라데이션을 적용할 수 있음\n",
    "plt.pcolor(y) # (B)\n",
    "plt.colorbar() # (C)\n",
    "plt.show()"
   ]
  },
  {
   "cell_type": "markdown",
   "metadata": {},
   "source": [
    "### 함수의 표면을 표시: surface"
   ]
  },
  {
   "cell_type": "markdown",
   "metadata": {},
   "source": [
    "<img src=\"리스트3-(5)설명-1.JPG\" style=\"width:600px\">  \n",
    "<img src=\"리스트3-(5)설명-2.JPG\" style=\"width:600px\">   "
   ]
  },
  {
   "cell_type": "code",
   "execution_count": null,
   "metadata": {
    "scrolled": true
   },
   "outputs": [],
   "source": [
    "#리스트 3-(5)\n",
    "from mpl_toolkits.mplot3d import Axes3D # (A) '라이브러리명.함수'가 아니라 '함수명' 만으로 import 함수를 호출할 수 있음\n",
    "\n",
    "xx0, xx1 = np.meshgrid(x0, x1) # (B)\n",
    "\n",
    "plt.figure(figsize=(5, 3.5))\n",
    "ax = plt.subplot(1, 1, 1, projection='3d') # (C)\n",
    "ax.plot_surface(xx0, xx1, y, rstride=1, cstride=1, alpha=0.3,\n",
    "                color='blue', edgecolor='black') # (D)\n",
    "ax.set_zticks((0, 0.2)) # (E)\n",
    "ax.view_init(75, -95) # (F)\n",
    "plt.show()"
   ]
  },
  {
   "cell_type": "markdown",
   "metadata": {},
   "source": [
    "아래는 np.meshgrid(x0,x1)에 관한 설명입니다."
   ]
  },
  {
   "cell_type": "code",
   "execution_count": null,
   "metadata": {},
   "outputs": [],
   "source": [
    "# 리스트 3-(6)\n",
    "print(x0)\n",
    "print(x1)"
   ]
  },
  {
   "cell_type": "code",
   "execution_count": null,
   "metadata": {},
   "outputs": [],
   "source": [
    "# 리스트 3-(7)\n",
    "print(xx0)"
   ]
  },
  {
   "cell_type": "code",
   "execution_count": null,
   "metadata": {},
   "outputs": [],
   "source": [
    "# 리스트 3-(8)\n",
    "print(xx1)"
   ]
  },
  {
   "cell_type": "markdown",
   "metadata": {},
   "source": [
    "**실습문제**: 리스트 3-(5)를 해상도 50x50으로 올리고, rstride=2, cstride=2로 하여 재구현하시오."
   ]
  },
  {
   "cell_type": "code",
   "execution_count": null,
   "metadata": {},
   "outputs": [],
   "source": []
  },
  {
   "cell_type": "markdown",
   "metadata": {},
   "source": [
    "**실습문제**: 리스트 3-(5)에서 ax.view_init() 함수에서 높이와 각도를 변경하여 다양한 차트를 만들어 보세요."
   ]
  },
  {
   "cell_type": "code",
   "execution_count": null,
   "metadata": {},
   "outputs": [],
   "source": []
  },
  {
   "cell_type": "markdown",
   "metadata": {},
   "source": [
    "### 등고선으로 표시: contour"
   ]
  },
  {
   "cell_type": "code",
   "execution_count": null,
   "metadata": {
    "scrolled": true
   },
   "outputs": [],
   "source": [
    "# 리스트 3-(9)\n",
    "xn = 50\n",
    "x0 = np.linspace(-2, 2, xn)\n",
    "x1 = np.linspace(-2, 2, xn)\n",
    "y = np.zeros((len(x0), len(x1)))\n",
    "for i1 in range(xn):\n",
    "    None        # y[i1,i0] 계산 : 슬라이싱 기능을 이용하여 None 대신에 알맞은 코드로 채우시오\n",
    "        \n",
    "xx0, xx1 = None     # (A)  x0, x1에 대해 np.meshgrid() 함수를 이용하여 xx0, xx1을 구하여라.\n",
    "\n",
    "plt.figure(1, figsize=(4, 4))\n",
    "cont = plt.contour(xx0, xx1, y, 5, colors='black') # (B) 등고선 높이를 5단계로 지정\n",
    "cont.clabel(fmt='%3.2f', fontsize=8) # (C)\n",
    "plt.xlabel('$x_0$', fontsize=14)\n",
    "plt.ylabel('$x_1$', fontsize=14)\n",
    "plt.show()"
   ]
  },
  {
   "cell_type": "markdown",
   "metadata": {},
   "source": [
    "## 이미지 표시하기"
   ]
  },
  {
   "cell_type": "markdown",
   "metadata": {},
   "source": [
    "imshow함수를 사용해 이미지를 나타낼 수 있습니다."
   ]
  },
  {
   "cell_type": "code",
   "execution_count": null,
   "metadata": {},
   "outputs": [],
   "source": [
    "import matplotlib.pyplot as plt\n",
    "from matplotlib.image import imread\n",
    "\n",
    "img = imread('cat.jpg')\n",
    "\n",
    "plt.imshow(img)\n",
    "plt.show()"
   ]
  },
  {
   "cell_type": "markdown",
   "metadata": {},
   "source": [
    "SciPy는 이미지를 다룰 기본적인 함수들을 제공합니다. 예를들자면, 디스크에 저장된 이미지를 numpy 배열로 읽어 들이는 함수가 있으며, numpy 배열을 디스크에 이미지로 저장하는 함수도 있고, 이미지의 크기를 바꾸는 함수도 있습니다. "
   ]
  },
  {
   "cell_type": "code",
   "execution_count": null,
   "metadata": {},
   "outputs": [],
   "source": [
    "from scipy.misc import imread, imsave, imresize\n",
    "\n",
    "# JPEG 이미지를 numpy 배열로 읽어들이기\n",
    "img = imread('cat.jpg')\n",
    "print (img.dtype, img.shape)  # 출력 \"uint8 (400, 248, 3)\"\n",
    "\n",
    "# 각각의 색깔 채널을 다른 상수값으로 스칼라배함으로써\n",
    "# 이미지의 색을 변화시킬 수 있습니다.\n",
    "# 이미지의 shape는 (400, 248, 3)입니다;\n",
    "# 여기에 shape가 (3,)인 배열 [1, 0.95, 0.9]를 곱합니다;\n",
    "# numpy 브로드캐스팅에 의해 이 배열이 곱해지며 붉은색 채널은 변하지 않으며,\n",
    "# 초록색, 파란색 채널에는 각각 0.95, 0.9가 곱해집니다\n",
    "img_tinted = img * [1, 0.95, 0.9]\n",
    "\n",
    "# 색변경 이미지를 300x300픽셀로 크기 조절.\n",
    "img_tinted = imresize(img_tinted, (300, 300))\n",
    "\n",
    "# 색변경 이미지를 디스크에 기록하기\n",
    "imsave('cat_tinted.jpg', img_tinted)"
   ]
  },
  {
   "cell_type": "code",
   "execution_count": null,
   "metadata": {},
   "outputs": [],
   "source": [
    "import numpy as np\n",
    "from scipy.misc import imread, imresize\n",
    "import matplotlib.pyplot as plt\n",
    "\n",
    "img = imread('cat.jpg')\n",
    "img_tinted = img * [1, 0.95, 0.9]\n",
    "\n",
    "# 원본 이미지 나타내기\n",
    "plt.subplot(1, 2, 1)\n",
    "plt.imshow(img)\n",
    "\n",
    "# 색변화된 이미지 나타내기\n",
    "plt.subplot(1, 2, 2)\n",
    "\n",
    "# imshow를 이용하며 주의할 점은 데이터의 자료형이\n",
    "# uint8이 아니라면 이상한 결과를 보여줄 수도 있다는 것입니다.\n",
    "# 그러므로 이미지를 나타내기 전에 명시적으로 자료형을 uint8로 형변환 해줍니다.\n",
    "\n",
    "plt.imshow(np.uint8(img_tinted))\n",
    "plt.show()"
   ]
  },
  {
   "cell_type": "code",
   "execution_count": null,
   "metadata": {},
   "outputs": [],
   "source": []
  }
 ],
 "metadata": {
  "kernelspec": {
   "display_name": "Python 3",
   "language": "python",
   "name": "python3"
  },
  "language_info": {
   "codemirror_mode": {
    "name": "ipython",
    "version": 3
   },
   "file_extension": ".py",
   "mimetype": "text/x-python",
   "name": "python",
   "nbconvert_exporter": "python",
   "pygments_lexer": "ipython3",
   "version": "3.7.3"
  }
 },
 "nbformat": 4,
 "nbformat_minor": 2
}
