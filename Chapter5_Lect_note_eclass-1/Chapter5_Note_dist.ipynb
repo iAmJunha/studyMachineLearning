{
 "cells": [
  {
   "cell_type": "markdown",
   "metadata": {},
   "source": [
    "# Chapter 5. 지도학습: 회귀 - 배포용"
   ]
  },
  {
   "cell_type": "markdown",
   "metadata": {},
   "source": [
    "지도학습 : 회귀, 분류\n",
    "  - 회귀(regression) : input -> continuous value  --> this chapter\n",
    "  - 분류(classification) : input -> discrete value (class,label,category)  -->b chapter 6"
   ]
  },
  {
   "cell_type": "markdown",
   "metadata": {},
   "source": [
    "회귀는 연속형 자료 \n",
    "분류는 이산형 자료를 다룬다"
   ]
  },
  {
   "cell_type": "markdown",
   "metadata": {},
   "source": [
    "## 5.1 1차원 입력 직선 모델"
   ]
  },
  {
   "cell_type": "markdown",
   "metadata": {},
   "source": [
    "training data: 나이 $\\textbf{x}$와 키 $\\textbf{t}$의 column data\n",
    "![대체 텍스트](식5-1.JPG)\n",
    "- $x_n$ - 입력변수, $t_n$ - 목표변수(target)\n",
    "- $\\textbf{x}$ - 입력 데이터, $\\textbf{t}$ - 목표 데이터\n",
    "\n",
    "object - training data에 없는 test data에 대해서 사람의 나이 $\\textbf{x}$에 대해 그 사람의 키 $\\textbf{t}$를 예측"
   ]
  },
  {
   "cell_type": "markdown",
   "metadata": {},
   "source": [
    "training을 위해 입력데이터 $\\textbf{x}$와 목표데이터 $\\textbf{t}$를 생성"
   ]
  },
  {
   "cell_type": "code",
   "execution_count": 1,
   "metadata": {},
   "outputs": [],
   "source": [
    "# 리스트 5-1-(1)\n",
    "import numpy as np\n",
    "import matplotlib.pyplot as plt\n",
    "%matplotlib inline\n",
    "\n",
    "\n",
    "# 데이터 생성 --------------------------------\n",
    "np.random.seed(seed=1) # 난수를 고정\n",
    "X_min = 4 # X의 하한(표시 용)\n",
    "X_max = 30 # X의 상한(표시 용)\n",
    "X_n = 16 # X 요소 갯수\n",
    "X = 5 + 25 * np.random.rand(X_n) # 랜덤으로 0~1 범위 숫자 16개 만들어서 25 곱하고 5를 더한다. -> 이렇게 하면 최대가 30살 \n",
    "Prm_c = [170, 108, 0.2] # 생성 매개 변수,\n",
    "T = Prm_c[0] - Prm_c[1] * np.exp(-Prm_c[2] * X) + 4 * np.random.randn(X_n) # (A) 인위적으로 키를 만드는 공식 (나이와 어느정도 연관이 있도록)\n",
    "np.savez('ch5_data.npz', X=X, X_min=X_min, X_max=X_max, X_n=X_n, T=T) # (B)"
   ]
  },
  {
   "cell_type": "code",
   "execution_count": 2,
   "metadata": {},
   "outputs": [
    {
     "data": {
      "text/plain": [
       "array([0.10322601, 0.44789353, 0.9085955 , 0.29361415, 0.28777534,\n",
       "       0.13002857, 0.01936696, 0.67883553, 0.21162812, 0.26554666])"
      ]
     },
     "execution_count": 2,
     "metadata": {},
     "output_type": "execute_result"
    }
   ],
   "source": []
  },
  {
   "cell_type": "markdown",
   "metadata": {},
   "source": [
    "![대체 텍스트](그림5-1.JPG)"
   ]
  },
  {
   "cell_type": "markdown",
   "metadata": {},
   "source": [
    "생성된 training data - 입력데이터 $\\textbf{x}$"
   ]
  },
  {
   "cell_type": "code",
   "execution_count": 3,
   "metadata": {},
   "outputs": [
    {
     "name": "stdout",
     "output_type": "stream",
     "text": [
      "[15.42555012 23.00811234  5.00285937 12.55831432  8.66889727  7.30846487\n",
      "  9.65650528 13.63901818 14.91918686 18.47041835 15.47986286 22.13048751\n",
      " 10.11130624 26.95293591  5.68468983 21.76168775]\n"
     ]
    }
   ],
   "source": [
    "# 리스트 5-1-(2)\n",
    "print(X)      # 입력 데이터\n"
   ]
  },
  {
   "cell_type": "code",
   "execution_count": 4,
   "metadata": {},
   "outputs": [
    {
     "name": "stdout",
     "output_type": "stream",
     "text": [
      "[15.43 23.01  5.   12.56  8.67  7.31  9.66 13.64 14.92 18.47 15.48 22.13\n",
      " 10.11 26.95  5.68 21.76]\n"
     ]
    }
   ],
   "source": [
    "# 리스트 5-1-(3)\n",
    "print(np.round(X, 2))      # 소수 둘째자리까지 반올림\n"
   ]
  },
  {
   "cell_type": "markdown",
   "metadata": {},
   "source": [
    "생성된 training data - 목표 데이터 $\\textbf{t}$"
   ]
  },
  {
   "cell_type": "code",
   "execution_count": 5,
   "metadata": {},
   "outputs": [
    {
     "name": "stdout",
     "output_type": "stream",
     "text": [
      "[170.91 160.68 129.   159.7  155.46 140.56 153.65 159.43 164.7  169.65\n",
      " 160.71 173.29 159.31 171.52 138.96 165.87]\n"
     ]
    }
   ],
   "source": [
    "# 리스트 5-1-(4)\n",
    "print(np.round(T, 2))      # 목표 데이터\n"
   ]
  },
  {
   "cell_type": "markdown",
   "metadata": {},
   "source": [
    "생성된 training data에 대한 그래프 "
   ]
  },
  {
   "cell_type": "code",
   "execution_count": 6,
   "metadata": {
    "scrolled": true
   },
   "outputs": [
    {
     "data": {
      "image/png": "[encoded data removed]",
      "text/plain": [
       "<Figure size 288x288 with 1 Axes>"
      ]
     },
     "metadata": {
      "needs_background": "light"
     },
     "output_type": "display_data"
    }
   ],
   "source": [
    "# 리스트 5-1-(5)\n",
    "# 데이터 그래프 ------------------------------\n",
    "plt.figure(figsize=(4, 4))\n",
    "plt.plot(X, T, marker='o', linestyle='None',\n",
    "         markeredgecolor='black', color='cornflowerblue')\n",
    "plt.xlim(X_min, X_max)\n",
    "plt.grid(True)\n",
    "plt.show()\n",
    "# 그래프를 그려보니 이렇더라 ~ "
   ]
  },
  {
   "cell_type": "markdown",
   "metadata": {},
   "source": [
    "### 5.1.1 직선 모델 (linear regression)"
   ]
  },
  {
   "cell_type": "markdown",
   "metadata": {},
   "source": [
    "training data를 가장 잘 표현할 수 있는 직선은?\n",
    "![대체 텍스트](그림5-2.JPG)"
   ]
  },
  {
   "cell_type": "markdown",
   "metadata": {},
   "source": [
    "직선의 방정식은?\n",
    "![대체 텍스트](식5-2.JPG)\n",
    "$x$는 나이를 나타내고, $y(x)$는 $x$에 대한 $t$의 예측치를 표현한다.\n",
    "\n",
    "직선이 training data에 가장 잘 부합할려면 $w_0$와 $w_1$을 어떻게 정할까?"
   ]
  },
  {
   "cell_type": "markdown",
   "metadata": {},
   "source": [
    "### 5.1.2 제곱 오차 함수"
   ]
  },
  {
   "cell_type": "markdown",
   "metadata": {},
   "source": [
    "![대체 텍스트](그림5-3.JPG)"
   ]
  },
  {
   "cell_type": "markdown",
   "metadata": {},
   "source": [
    "직선과 각 데이터 점들 사이의 오차 (MSE)가 가장 작을 수 있게 직선을 고른다."
   ]
  },
  {
   "cell_type": "markdown",
   "metadata": {},
   "source": [
    "일단 $\\textbf{w}$와 $J$의 관계를 그래프로 표현해 보자."
   ]
  },
  {
   "cell_type": "code",
   "execution_count": 7,
   "metadata": {},
   "outputs": [
    {
     "name": "stderr",
     "output_type": "stream",
     "text": [
      "C:\\ProgramData\\Anaconda3\\lib\\site-packages\\matplotlib\\contour.py:1557: UserWarning: Warning: converting a masked element to nan.\n",
      "  self.zmax = float(z.max())\n",
      "C:\\ProgramData\\Anaconda3\\lib\\site-packages\\matplotlib\\contour.py:1558: UserWarning: Warning: converting a masked element to nan.\n",
      "  self.zmin = float(z.min())\n",
      "C:\\ProgramData\\Anaconda3\\lib\\site-packages\\matplotlib\\contour.py:1239: RuntimeWarning: invalid value encountered in greater\n",
      "  inside = (self.levels > self.zmin) & (self.levels < self.zmax)\n",
      "C:\\ProgramData\\Anaconda3\\lib\\site-packages\\matplotlib\\contour.py:1239: RuntimeWarning: invalid value encountered in less\n",
      "  inside = (self.levels > self.zmin) & (self.levels < self.zmax)\n",
      "C:\\ProgramData\\Anaconda3\\lib\\site-packages\\matplotlib\\contour.py:1243: UserWarning: No contour levels were found within the data range.\n",
      "  warnings.warn(\"No contour levels were found\"\n",
      "C:\\ProgramData\\Anaconda3\\lib\\site-packages\\numpy\\core\\fromnumeric.py:83: RuntimeWarning: invalid value encountered in reduce\n",
      "  return ufunc.reduce(obj, axis, dtype, out, **passkwargs)\n"
     ]
    },
    {
     "data": {
      "image/png": "[encoded data removed]",
      "text/plain": [
       "<Figure size 684x288 with 2 Axes>"
      ]
     },
     "metadata": {
      "needs_background": "light"
     },
     "output_type": "display_data"
    }
   ],
   "source": [
    "# 리스트 5-1-(6)\n",
    "from mpl_toolkits.mplot3d import Axes3D\n",
    "# 평균 오차 함수 ------------------------------\n",
    "def mse_line(x, t, w):\n",
    "    y = None            # 여기에 None 대신에 적절한 코드를 입력하시오.\n",
    "    mse = None          # 여기에 None 대신에 적절한 코드를 입력하시오.\n",
    "    return mse\n",
    "\n",
    "# 계산 --------------------------------------\n",
    "wn = 100 # 등고선 표시 해상도\n",
    "w0_range = [-25, 25]\n",
    "w1_range = [120, 170]\n",
    "w0 = np.linspace(w0_range[0], w0_range[1], wn)\n",
    "w1 = np.linspace(w1_range[0], w1_range[1], wn)\n",
    "ww0, ww1 = np.meshgrid(w0, w1)      \n",
    "J = np.zeros((len(w0), len(w1)))    \n",
    "for i1 in range(wn):            # 중첩 for 문에서 i0,i1의 순서는 상관 없음\n",
    "    for i0 in range(wn):\n",
    "        J[i1, i0] = None        # 여기에 None 대신에 적절한 코드를 입력하시오.\n",
    "\n",
    "# 표시 --------------------------------------\n",
    "plt.figure(figsize=(9.5, 4))\n",
    "plt.subplots_adjust(wspace=0.5)\n",
    "\n",
    "ax = plt.subplot(1, 2, 1, projection='3d')\n",
    "ax.plot_surface(ww0, ww1, J, rstride=10, cstride=10, alpha=0.3,\n",
    "                color='blue', edgecolor='black')\n",
    "ax.set_xticks([-20, 0, 20])\n",
    "ax.set_yticks([120, 140, 160])\n",
    "ax.set_xlabel('$w_0$')\n",
    "ax.set_ylabel('$w_1$')\n",
    "ax.view_init(20, -60)\n",
    "\n",
    "plt.subplot(1, 2, 2)\n",
    "cont = plt.contour(ww0, ww1, J, 30, colors='black',\n",
    "                   levels=[100, 1000, 10000, 100000])\n",
    "cont.clabel(fmt='%1.0f', fontsize=8)\n",
    "plt.xlabel('$w_0$')\n",
    "plt.ylabel('$w_1$')\n",
    "plt.grid(True)\n",
    "plt.show()\n"
   ]
  },
  {
   "cell_type": "markdown",
   "metadata": {},
   "source": [
    "위의 그래프에서 $w_0=3,w_1=135$ 근처에서 $J$가 최소값을 가짐"
   ]
  },
  {
   "cell_type": "markdown",
   "metadata": {},
   "source": [
    "### 5.1.3 매개변수 구하기 (gradient descent)"
   ]
  },
  {
   "cell_type": "markdown",
   "metadata": {},
   "source": [
    "- 초기 위치로 적당한 $w_0$와 $w_1$을 결정 \n",
    "- 이 점에서의 기울기를 확인하고 $J$가 감소하는 방향으로 $w_0$와 $w_1$을 조금만 진행\n",
    "- 위의 과정을 여러 번 반복하여 최종적으로 $J$가 가장 작아지는 $w_0$와 $w_1$을 수정\n",
    "![그림5-5 기울기(gradient)](그림5-5.JPG)\n",
    "\n",
    "기울기(gradient) of $J$  \n",
    "- $\\nabla_W J = \\left[ \\frac{\\partial J}{\\partial w_0}, \\frac{\\partial J}{\\partial w_1} \\right]^T$\n",
    "\n",
    "$J$를 최소화하려면 $J$의 기울기의 반대방향 $-\\nabla_W J = -\\left[ \\frac{\\partial J}{\\partial w_0}, \\frac{\\partial J}{\\partial w_1} \\right]^T$으로 진행"
   ]
  },
  {
   "cell_type": "markdown",
   "metadata": {},
   "source": [
    "$\\textbf{w}$의 갱신방법(학습법칙)을 행렬표기로 나타내면 \n",
    "![대체 텍스트](식5-5.JPG)\n",
    "where $\\alpha$ = 학습율(learning rate)\n",
    "\n",
    "위의 수식을 각 성분별로 나타내면\n",
    "![대체 텍스트](식5-7.JPG)"
   ]
  },
  {
   "cell_type": "markdown",
   "metadata": {},
   "source": [
    "Gradient를 구하기 위하여 $J$를 편미분 하면\n",
    "![대체 텍스트](식5-8.JPG)\n",
    "![대체 텍스트](식5-9.JPG)\n",
    "![대체 텍스트](식5-10.JPG)\n",
    "\n",
    "따라서 (식5-6),(식5-7)의 학습법칙은 아래와 같이 다시 쓸 수 있다.\n",
    "![대체 텍스트](식5-11.JPG)"
   ]
  },
  {
   "cell_type": "markdown",
   "metadata": {},
   "source": [
    "아래는 (식5-9),(식5-10)에 대한 프로그램이다."
   ]
  },
  {
   "cell_type": "code",
   "execution_count": 8,
   "metadata": {},
   "outputs": [],
   "source": [
    "# 리스트 5-1-(7)\n",
    "# 평균 제곱 오차의 기울기 ------------------------\n",
    "def dmse_line(x, t, w):\n",
    "    y = w[0] * x + w[1]\n",
    "    d_w0 = None            # 여기에 None 대신에 적절한 코드를 입력하시오.\n",
    "    d_w1 = None            # 여기에 None 대신에 적절한 코드를 입력하시오.\n",
    "    return d_w0, d_w1\n"
   ]
  },
  {
   "cell_type": "markdown",
   "metadata": {},
   "source": [
    "초기값 $\\textbf{w = [10, 165]}$에서의 기울기"
   ]
  },
  {
   "cell_type": "code",
   "execution_count": 9,
   "metadata": {
    "scrolled": true
   },
   "outputs": [
    {
     "ename": "TypeError",
     "evalue": "unsupported operand type(s) for *: 'NoneType' and 'float'",
     "output_type": "error",
     "traceback": [
      "\u001b[1;31m---------------------------------------------------------------------------\u001b[0m",
      "\u001b[1;31mAttributeError\u001b[0m                            Traceback (most recent call last)",
      "\u001b[1;32mC:\\ProgramData\\Anaconda3\\lib\\site-packages\\numpy\\core\\fromnumeric.py\u001b[0m in \u001b[0;36m_wrapfunc\u001b[1;34m(obj, method, *args, **kwds)\u001b[0m\n\u001b[0;32m     50\u001b[0m     \u001b[1;32mtry\u001b[0m\u001b[1;33m:\u001b[0m\u001b[1;33m\u001b[0m\u001b[1;33m\u001b[0m\u001b[0m\n\u001b[1;32m---> 51\u001b[1;33m         \u001b[1;32mreturn\u001b[0m \u001b[0mgetattr\u001b[0m\u001b[1;33m(\u001b[0m\u001b[0mobj\u001b[0m\u001b[1;33m,\u001b[0m \u001b[0mmethod\u001b[0m\u001b[1;33m)\u001b[0m\u001b[1;33m(\u001b[0m\u001b[1;33m*\u001b[0m\u001b[0margs\u001b[0m\u001b[1;33m,\u001b[0m \u001b[1;33m**\u001b[0m\u001b[0mkwds\u001b[0m\u001b[1;33m)\u001b[0m\u001b[1;33m\u001b[0m\u001b[1;33m\u001b[0m\u001b[0m\n\u001b[0m\u001b[0;32m     52\u001b[0m \u001b[1;33m\u001b[0m\u001b[0m\n",
      "\u001b[1;31mAttributeError\u001b[0m: 'tuple' object has no attribute 'round'",
      "\nDuring handling of the above exception, another exception occurred:\n",
      "\u001b[1;31mTypeError\u001b[0m                                 Traceback (most recent call last)",
      "\u001b[1;32m<ipython-input-9-a24e1f32f012>\u001b[0m in \u001b[0;36m<module>\u001b[1;34m\u001b[0m\n\u001b[0;32m      1\u001b[0m \u001b[1;31m# 리스트 5-1-(8)\u001b[0m\u001b[1;33m\u001b[0m\u001b[1;33m\u001b[0m\u001b[1;33m\u001b[0m\u001b[0m\n\u001b[0;32m      2\u001b[0m \u001b[0md_w\u001b[0m \u001b[1;33m=\u001b[0m \u001b[0mdmse_line\u001b[0m\u001b[1;33m(\u001b[0m\u001b[0mX\u001b[0m\u001b[1;33m,\u001b[0m \u001b[0mT\u001b[0m\u001b[1;33m,\u001b[0m \u001b[1;33m[\u001b[0m\u001b[1;36m10\u001b[0m\u001b[1;33m,\u001b[0m \u001b[1;36m165\u001b[0m\u001b[1;33m]\u001b[0m\u001b[1;33m)\u001b[0m\u001b[1;33m\u001b[0m\u001b[1;33m\u001b[0m\u001b[0m\n\u001b[1;32m----> 3\u001b[1;33m \u001b[0mprint\u001b[0m\u001b[1;33m(\u001b[0m\u001b[0mnp\u001b[0m\u001b[1;33m.\u001b[0m\u001b[0mround\u001b[0m\u001b[1;33m(\u001b[0m\u001b[0md_w\u001b[0m\u001b[1;33m,\u001b[0m \u001b[1;36m1\u001b[0m\u001b[1;33m)\u001b[0m\u001b[1;33m)\u001b[0m\u001b[1;33m\u001b[0m\u001b[1;33m\u001b[0m\u001b[0m\n\u001b[0m",
      "\u001b[1;32mC:\\ProgramData\\Anaconda3\\lib\\site-packages\\numpy\\core\\fromnumeric.py\u001b[0m in \u001b[0;36mround_\u001b[1;34m(a, decimals, out)\u001b[0m\n\u001b[0;32m   2812\u001b[0m \u001b[1;33m\u001b[0m\u001b[0m\n\u001b[0;32m   2813\u001b[0m     \"\"\"\n\u001b[1;32m-> 2814\u001b[1;33m     \u001b[1;32mreturn\u001b[0m \u001b[0maround\u001b[0m\u001b[1;33m(\u001b[0m\u001b[0ma\u001b[0m\u001b[1;33m,\u001b[0m \u001b[0mdecimals\u001b[0m\u001b[1;33m=\u001b[0m\u001b[0mdecimals\u001b[0m\u001b[1;33m,\u001b[0m \u001b[0mout\u001b[0m\u001b[1;33m=\u001b[0m\u001b[0mout\u001b[0m\u001b[1;33m)\u001b[0m\u001b[1;33m\u001b[0m\u001b[1;33m\u001b[0m\u001b[0m\n\u001b[0m\u001b[0;32m   2815\u001b[0m \u001b[1;33m\u001b[0m\u001b[0m\n\u001b[0;32m   2816\u001b[0m \u001b[1;33m\u001b[0m\u001b[0m\n",
      "\u001b[1;32mC:\\ProgramData\\Anaconda3\\lib\\site-packages\\numpy\\core\\fromnumeric.py\u001b[0m in \u001b[0;36maround\u001b[1;34m(a, decimals, out)\u001b[0m\n\u001b[0;32m   2798\u001b[0m \u001b[1;33m\u001b[0m\u001b[0m\n\u001b[0;32m   2799\u001b[0m     \"\"\"\n\u001b[1;32m-> 2800\u001b[1;33m     \u001b[1;32mreturn\u001b[0m \u001b[0m_wrapfunc\u001b[0m\u001b[1;33m(\u001b[0m\u001b[0ma\u001b[0m\u001b[1;33m,\u001b[0m \u001b[1;34m'round'\u001b[0m\u001b[1;33m,\u001b[0m \u001b[0mdecimals\u001b[0m\u001b[1;33m=\u001b[0m\u001b[0mdecimals\u001b[0m\u001b[1;33m,\u001b[0m \u001b[0mout\u001b[0m\u001b[1;33m=\u001b[0m\u001b[0mout\u001b[0m\u001b[1;33m)\u001b[0m\u001b[1;33m\u001b[0m\u001b[1;33m\u001b[0m\u001b[0m\n\u001b[0m\u001b[0;32m   2801\u001b[0m \u001b[1;33m\u001b[0m\u001b[0m\n\u001b[0;32m   2802\u001b[0m \u001b[1;33m\u001b[0m\u001b[0m\n",
      "\u001b[1;32mC:\\ProgramData\\Anaconda3\\lib\\site-packages\\numpy\\core\\fromnumeric.py\u001b[0m in \u001b[0;36m_wrapfunc\u001b[1;34m(obj, method, *args, **kwds)\u001b[0m\n\u001b[0;32m     59\u001b[0m     \u001b[1;31m# a downstream library like 'pandas'.\u001b[0m\u001b[1;33m\u001b[0m\u001b[1;33m\u001b[0m\u001b[1;33m\u001b[0m\u001b[0m\n\u001b[0;32m     60\u001b[0m     \u001b[1;32mexcept\u001b[0m \u001b[1;33m(\u001b[0m\u001b[0mAttributeError\u001b[0m\u001b[1;33m,\u001b[0m \u001b[0mTypeError\u001b[0m\u001b[1;33m)\u001b[0m\u001b[1;33m:\u001b[0m\u001b[1;33m\u001b[0m\u001b[1;33m\u001b[0m\u001b[0m\n\u001b[1;32m---> 61\u001b[1;33m         \u001b[1;32mreturn\u001b[0m \u001b[0m_wrapit\u001b[0m\u001b[1;33m(\u001b[0m\u001b[0mobj\u001b[0m\u001b[1;33m,\u001b[0m \u001b[0mmethod\u001b[0m\u001b[1;33m,\u001b[0m \u001b[1;33m*\u001b[0m\u001b[0margs\u001b[0m\u001b[1;33m,\u001b[0m \u001b[1;33m**\u001b[0m\u001b[0mkwds\u001b[0m\u001b[1;33m)\u001b[0m\u001b[1;33m\u001b[0m\u001b[1;33m\u001b[0m\u001b[0m\n\u001b[0m\u001b[0;32m     62\u001b[0m \u001b[1;33m\u001b[0m\u001b[0m\n\u001b[0;32m     63\u001b[0m \u001b[1;33m\u001b[0m\u001b[0m\n",
      "\u001b[1;32mC:\\ProgramData\\Anaconda3\\lib\\site-packages\\numpy\\core\\fromnumeric.py\u001b[0m in \u001b[0;36m_wrapit\u001b[1;34m(obj, method, *args, **kwds)\u001b[0m\n\u001b[0;32m     39\u001b[0m     \u001b[1;32mexcept\u001b[0m \u001b[0mAttributeError\u001b[0m\u001b[1;33m:\u001b[0m\u001b[1;33m\u001b[0m\u001b[1;33m\u001b[0m\u001b[0m\n\u001b[0;32m     40\u001b[0m         \u001b[0mwrap\u001b[0m \u001b[1;33m=\u001b[0m \u001b[1;32mNone\u001b[0m\u001b[1;33m\u001b[0m\u001b[1;33m\u001b[0m\u001b[0m\n\u001b[1;32m---> 41\u001b[1;33m     \u001b[0mresult\u001b[0m \u001b[1;33m=\u001b[0m \u001b[0mgetattr\u001b[0m\u001b[1;33m(\u001b[0m\u001b[0masarray\u001b[0m\u001b[1;33m(\u001b[0m\u001b[0mobj\u001b[0m\u001b[1;33m)\u001b[0m\u001b[1;33m,\u001b[0m \u001b[0mmethod\u001b[0m\u001b[1;33m)\u001b[0m\u001b[1;33m(\u001b[0m\u001b[1;33m*\u001b[0m\u001b[0margs\u001b[0m\u001b[1;33m,\u001b[0m \u001b[1;33m**\u001b[0m\u001b[0mkwds\u001b[0m\u001b[1;33m)\u001b[0m\u001b[1;33m\u001b[0m\u001b[1;33m\u001b[0m\u001b[0m\n\u001b[0m\u001b[0;32m     42\u001b[0m     \u001b[1;32mif\u001b[0m \u001b[0mwrap\u001b[0m\u001b[1;33m:\u001b[0m\u001b[1;33m\u001b[0m\u001b[1;33m\u001b[0m\u001b[0m\n\u001b[0;32m     43\u001b[0m         \u001b[1;32mif\u001b[0m \u001b[1;32mnot\u001b[0m \u001b[0misinstance\u001b[0m\u001b[1;33m(\u001b[0m\u001b[0mresult\u001b[0m\u001b[1;33m,\u001b[0m \u001b[0mmu\u001b[0m\u001b[1;33m.\u001b[0m\u001b[0mndarray\u001b[0m\u001b[1;33m)\u001b[0m\u001b[1;33m:\u001b[0m\u001b[1;33m\u001b[0m\u001b[1;33m\u001b[0m\u001b[0m\n",
      "\u001b[1;31mTypeError\u001b[0m: unsupported operand type(s) for *: 'NoneType' and 'float'"
     ]
    }
   ],
   "source": [
    "# 리스트 5-1-(8)\n",
    "d_w = dmse_line(X, T, [10, 165])\n",
    "print(np.round(d_w, 1))\n"
   ]
  },
  {
   "cell_type": "markdown",
   "metadata": {},
   "source": [
    "경사하강법(gradient descent) 구현"
   ]
  },
  {
   "cell_type": "code",
   "execution_count": null,
   "metadata": {},
   "outputs": [],
   "source": [
    "# 리스트 5-1-(9)\n",
    "# 경사하강법 ------------------------------------\n",
    "def fit_line_num(x, t):\n",
    "    w_init = [10.0, 165.0] # 초기 매개 변수\n",
    "    alpha = 0.001 # 학습률\n",
    "    i_max = 100000 # 반복의 최대 수\n",
    "    eps = 0.1 # 반복을 종료 기울기의 절대 값의 한계\n",
    "    w_i = np.zeros([i_max, 2])    # iteration 별 w=[w0,w1] 값의 변경 내역\n",
    "    w_i[0, :] = w_init\n",
    "    for i in range(1, i_max):\n",
    "        mse = mse_line(x, t, w_i[i - 1])\n",
    "        if i % 1000 == 0:\n",
    "            print(\"Iter =\", i, \",    MSE = \", mse)\n",
    "        dmse = dmse_line(x, t, w_i[i - 1])\n",
    "        w_i[i, 0] = None        # 여기에 None 대신에 적절한 코드를 입력하시오.\n",
    "        w_i[i, 1] = None        # 여기에 None 대신에 적절한 코드를 입력하시오.\n",
    "        if max(np.absolute(dmse)) < eps: # 종료판정, np.absolute는 절대치\n",
    "            break\n",
    "    w0 = w_i[i, 0]\n",
    "    w1 = w_i[i, 1]\n",
    "    w_i = w_i[:i, :]\n",
    "    return w0, w1, dmse, w_i\n",
    "\n",
    "\n",
    "# 메인 ------------------------------------\n",
    "plt.figure(figsize=(4, 4)) # MSE의 등고선 표시\n",
    "wn = 100 # 등고선 해상도\n",
    "w0_range = [-25, 25]\n",
    "w1_range = [120, 170]\n",
    "w0 = np.linspace(w0_range[0], w0_range[1], wn)\n",
    "w1 = np.linspace(w1_range[0], w1_range[1], wn)\n",
    "ww0, ww1 = np.meshgrid(w0, w1)\n",
    "J = np.zeros((len(w0), len(w1)))\n",
    "for i1 in range(wn):        # 중첩 for 문에서 i0,i1의 순서는 상관 없음\n",
    "    for i0 in range(wn):\n",
    "        J[i1, i0] = mse_line(X, T, (w0[i0], w1[i1]))\n",
    "cont = plt.contour(ww0, ww1, J, 30, colors='black',\n",
    "                   levels=(100, 1000, 10000, 100000))\n",
    "cont.clabel(fmt='%1.0f', fontsize=8) \n",
    "plt.xlabel('$w_0$')\n",
    "plt.ylabel('$w_1$')\n",
    "plt.grid(True)\n",
    "\n",
    "# 경사하강법 호출\n",
    "W0, W1, dMSE, W_history = fit_line_num(X, T)\n",
    "\n",
    "# 결과보기\n",
    "print('반복 횟수 {0}'.format(W_history.shape[0]))\n",
    "print('W=[{0:.6f}, {1:.6f}]'.format(W0, W1))\n",
    "print('dMSE=[{0:.6f}, {1:.6f}]'.format(dMSE[0], dMSE[1]))\n",
    "print('MSE={0:.6f}'.format(mse_line(X, T, [W0, W1])))\n",
    "plt.plot(W_history[:, 0], W_history[:, 1], '.-',\n",
    "         color='gray', markersize=10, markeredgecolor='cornflowerblue')\n",
    "plt.show()\n"
   ]
  },
  {
   "cell_type": "markdown",
   "metadata": {},
   "source": [
    "위의 경사하강법으로 구한 $\\textbf{w0}$와 $\\textbf{w1}$으로 직선(regression line)을 그려보면"
   ]
  },
  {
   "cell_type": "code",
   "execution_count": null,
   "metadata": {
    "scrolled": false
   },
   "outputs": [],
   "source": [
    "# 리스트 5-1-(10)\n",
    "# 선 표시 ----------------------------------\n",
    "def show_line(w):\n",
    "    xb = np.linspace(X_min, X_max, 100)\n",
    "    y = w[0] * xb + w[1]\n",
    "    plt.plot(xb, y, color=(.5, .5, .5), linewidth=4)\n",
    "\n",
    "\n",
    "# 메인 ------------------------------------\n",
    "plt.figure(figsize=(4, 4))\n",
    "W=np.array([W0, W1])\n",
    "mse = mse_line(X, T, W)\n",
    "print(\"w0={0:.3f}, w1={1:.3f}\".format(W0, W1))\n",
    "print(\"MSE={0:.3f} cm\".format(mse))\n",
    "print(\"SD={0:.3f} cm\".format(np.sqrt(mse)))\n",
    "show_line(W) \n",
    "plt.plot(X, T, marker='o', linestyle='None',\n",
    "         color='cornflowerblue', markeredgecolor='black') \n",
    "plt.xlim(X_min, X_max)\n",
    "plt.grid(True)\n",
    "plt.show()\n"
   ]
  },
  {
   "cell_type": "markdown",
   "metadata": {},
   "source": [
    "### 5.1.4 선형 모델 매개변수의 해석해"
   ]
  },
  {
   "cell_type": "markdown",
   "metadata": {},
   "source": [
    "직선모델(linear regression)의 매개변수 $\\textbf{w}$ 구하기\n",
    "- 수치해 : 경사하강법(gradient descent method)을 이용한 근사값 \n",
    "- 해석해 : 방정식을 이용한 정확한 값"
   ]
  },
  {
   "cell_type": "markdown",
   "metadata": {},
   "source": [
    "목표 : $J$가 극소화되는 $\\textbf{w}$ 찾기\n",
    "- 즉, (식5-9),(식5-10)에서 기울기가 0이되는 $\\textbf{w}$\n",
    "![대체 텍스트](식5-13.JPG)\n",
    "\n",
    "우선 (식5-13)을 먼저 계산하기 위하여, 양변을 2로 나누면\n",
    "![대체 텍스트](식5-15.JPG)\n",
    "$\\sum$을 각 항에 전개하면\n",
    "![대체 텍스트](식5-16.JPG)\n",
    "![대체 텍스트](식5-17.JPG)\n",
    "평균 기호를 < > 로 표현하면\n",
    "![대체 텍스트](식5-17-1.JPG)\n",
    "위의 수식을 < > 를 이용하여 간략하게 표시하면\n",
    "![대체 텍스트](식5-18.JPG)\n",
    "같은 방법으로 (식5-14)를 정리하면\n",
    "![대체 텍스트](식5-19.JPG)\n",
    "(식5-18),(식5-19)를 연립방정식으로 $w_0$와 $w_1$을 구하면\n",
    "![대체 텍스트](식5-19-1.JPG)\n",
    "![대체 텍스트](식5-20.JPG)\n",
    "![대체 텍스트](식5-21.JPG)"
   ]
  },
  {
   "cell_type": "markdown",
   "metadata": {},
   "source": [
    "해석해 구하는 프로그램 "
   ]
  },
  {
   "cell_type": "code",
   "execution_count": null,
   "metadata": {
    "scrolled": false
   },
   "outputs": [],
   "source": [
    "# 리스트 5-1-(11)\n",
    "# 해석해 ------------------------------------\n",
    "def fit_line(x, t):\n",
    "    mx = np.mean(x)\n",
    "    mt = np.mean(t)\n",
    "    mtx = np.mean(t * x)\n",
    "    mxx = np.mean(x * x)\n",
    "    w0 = None        # 여기에 None 대신에 적절한 코드를 입력하시오.\n",
    "    w1 = None        # 여기에 None 대신에 적절한 코드를 입력하시오.\n",
    "    return np.array([w0, w1])\n",
    "\n",
    "# 메인 ------------------------------------\n",
    "W = fit_line(X, T)\n",
    "print(\"w0={0:.3f}, w1={1:.3f}\".format(W[0], W[1]))\n",
    "mse = mse_line(X, T, W)\n",
    "print(\"SD={0:.3f} cm\".format(np.sqrt(mse)))\n",
    "plt.figure(figsize=(4, 4))\n",
    "show_line(W)\n",
    "plt.plot(X, T, marker='o', linestyle='None',\n",
    "         color='cornflowerblue', markeredgecolor='black')\n",
    "plt.xlim(X_min, X_max)\n",
    "plt.grid(True)\n",
    "plt.show()\n"
   ]
  },
  {
   "cell_type": "markdown",
   "metadata": {},
   "source": [
    "빠르다!!! 그러나 비선형 모델 같은 경우는 해석해를 못 구하는 경우가 많음!"
   ]
  },
  {
   "cell_type": "markdown",
   "metadata": {},
   "source": [
    "## 5.2 2차원 입력면 모델 "
   ]
  },
  {
   "cell_type": "markdown",
   "metadata": {},
   "source": [
    "입력 데이터 : 2차원 $\\textbf{x} = (x_0,x_1)$\n",
    "- 예, 데이터 = (나이, 몸무게)"
   ]
  },
  {
   "cell_type": "markdown",
   "metadata": {},
   "source": [
    "테스트를 위해 몸무게($x_1$)를 아래와 같이 임의로 생성\n",
    "![대체 텍스트](식5-22.JPG)"
   ]
  },
  {
   "cell_type": "code",
   "execution_count": null,
   "metadata": {},
   "outputs": [],
   "source": [
    "# 리스트 5-1-(12)\n",
    "# 2차원 데이터 생성 --------------------------\n",
    "X0 = X    # X0 = 나이\n",
    "X0_min = 5\n",
    "X0_max = 30\n",
    "np.random.seed(seed=1) # 난수를 고정\n",
    "X1 = 23 * (T / 100)**2 + 2 * np.random.randn(X_n)    # X1 = 몸무게\n",
    "X1_min = 40\n",
    "X1_max = 75"
   ]
  },
  {
   "cell_type": "code",
   "execution_count": null,
   "metadata": {
    "scrolled": true
   },
   "outputs": [],
   "source": [
    "# 리스트 5-1-(13)\n",
    "print(np.round(X0, 2))\n",
    "print(np.round(X1, 2))\n",
    "print(np.round(T, 2))\n"
   ]
  },
  {
   "cell_type": "code",
   "execution_count": null,
   "metadata": {},
   "outputs": [],
   "source": [
    "# 리스트 5-1-(14)\n",
    "# 2차원 데이터의 표시 ------------------------\n",
    "def show_data2(ax, x0, x1, t):\n",
    "    for i in range(len(x0)):\n",
    "        ax.plot([x0[i], x0[i]], [x1[i], x1[i]],\n",
    "                [120, t[i]], color='gray')\n",
    "        ax.plot(x0, x1, t, 'o',\n",
    "                color='cornflowerblue', markeredgecolor='black',\n",
    "                markersize=6, markeredgewidth=0.5)\n",
    "        ax.view_init(elev=35, azim=-75)\n",
    "\n",
    "\n",
    "# 메인 ------------------------------------\n",
    "plt.figure(figsize=(6, 5))\n",
    "ax = plt.subplot(1,1,1,projection='3d')\n",
    "ax.set_xlabel('$x_0$')\n",
    "ax.set_ylabel('$x_1$')\n",
    "show_data2(ax, X0, X1, T)\n",
    "plt.show()\n"
   ]
  },
  {
   "cell_type": "markdown",
   "metadata": {},
   "source": [
    "### 5.2.1 데이터의 표시방법"
   ]
  },
  {
   "cell_type": "markdown",
   "metadata": {},
   "source": [
    "입력 데이터 : 2차원 $\\textbf{x} = (x_0,x_1)$\n",
    "- 예, 데이터 = (나이, 몸무게)\n",
    "\n",
    "데이터 표기 방법: $x_{n,m}$ 또는 $x_{nm}$ (n 번째 데이터의 m 번째 특징)\n",
    "- $n$ : 데이터 번호\n",
    "- $m$ : 벡터의 요소 (0=나이, 1=몸무게 등) 번호"
   ]
  },
  {
   "cell_type": "markdown",
   "metadata": {},
   "source": [
    "(나이,몸무게) 데이터에 대한 입력 데이터와 목표(target) 데이터를 행렬로 표현하면:\n",
    "\n",
    "$\\qquad \\textbf{x} = \\begin{bmatrix} x_{00} & x_{01} \\\\ x_{10} & x_{11} \\\\ \\vdots & \\vdots \\\\ x_{N-1,0} & x_{N-1,1} \\end{bmatrix}, \\qquad   \\textbf{t} = \\begin{bmatrix} t_{0} \\\\ t_{1} \\\\ \\vdots \\\\ t_{N-1} \\end{bmatrix}$ "
   ]
  },
  {
   "cell_type": "markdown",
   "metadata": {},
   "source": [
    "### 5.2.2 면 모델 "
   ]
  },
  {
   "cell_type": "markdown",
   "metadata": {},
   "source": [
    "(나이,몸무게) 데이터에 대해서는 직선 모델이 아닌 면(plane) 모델이 되므로 회귀식은 아래와 같이 나타낼 수 있다:\n",
    "\n",
    "$\\qquad y(x_0,x_1) = w_0x_0 + w_1x_1 + w_2$\n",
    "\n",
    "행렬식으로 나타내면:\n",
    "\n",
    "$\\qquad \\textbf{y} = \\textbf{w}^T\\textbf{x}\n",
    "\\qquad \\text{where} \\qquad \\textbf{x} = \\begin{bmatrix} x_{0} \\\\ x_{1} \\\\ 1 \\end{bmatrix}, \n",
    "\\qquad \\textbf{w} = \\begin{bmatrix} w_{0} \\\\ w_{1} \\\\ w_{2} \\end{bmatrix}$ "
   ]
  },
  {
   "cell_type": "markdown",
   "metadata": {},
   "source": [
    "임의의 $\\textbf{w}=[1.5,1,90]$에 대해 면을 한번 그려 보자."
   ]
  },
  {
   "cell_type": "code",
   "execution_count": null,
   "metadata": {},
   "outputs": [],
   "source": [
    "# 리스트 5-1-(15)\n",
    "#면의 표시 ----------------------------------\n",
    "def show_plane(ax, w):\n",
    "    px0 = np.linspace(X0_min, X0_max, 5)\n",
    "    px1 = np.linspace(X1_min, X1_max, 5)\n",
    "    px0, px1 = np.meshgrid(px0, px1)\n",
    "    y = None        # 여기에 None 대신에 적절한 코드를 입력하시오.\n",
    "    ax.plot_surface(px0, px1, y, rstride=1, cstride=1, alpha=0.3,\n",
    "                    color='blue', edgecolor='black') \n",
    "\n",
    "#면의 MSE -----------------------------------\n",
    "def mse_plane(x0, x1, t, w):\n",
    "    y = None         # 여기에 None 대신에 적절한 코드를 입력하시오.\n",
    "    mse = None       # 여기에 None 대신에 적절한 코드를 입력하시오.\n",
    "    return mse\n",
    "\n",
    "# 메인 ------------------------------------\n",
    "plt.figure(figsize=(6, 5))\n",
    "ax = plt.subplot(1, 1, 1, projection='3d')\n",
    "W = [1.5, 1, 90]    # 임의의 W\n",
    "show_plane(ax, W) \n",
    "ax.set_xlabel('$x_0$')\n",
    "ax.set_ylabel('$x_1$')\n",
    "show_data2(ax, X0, X1, T)\n",
    "mse = mse_plane(X0, X1, T, W)\n",
    "print(\"SD={0:.3f} cm\".format(np.sqrt(mse)))\n",
    "plt.show()\n"
   ]
  },
  {
   "cell_type": "markdown",
   "metadata": {},
   "source": [
    "위의 그래프에서 면(plane)의 함수는\n",
    "![대체 텍스트](식5-28.JPG)"
   ]
  },
  {
   "cell_type": "markdown",
   "metadata": {},
   "source": [
    "**면모델에 대한 평균 제곱 오차 (Mean Square Error, MSE)**:\n",
    "![대체 텍스트](식5-3.JPG)\n",
    "$\\qquad \\qquad \\qquad \\qquad \\qquad \\qquad$ where\n",
    "$\\qquad y_n = y(x_{n0},x_{n1}) = w_0x_{n0} + w_1x_{n1} + w_2$"
   ]
  },
  {
   "cell_type": "markdown",
   "metadata": {},
   "source": [
    "**면모델에 대해 매개변수 구하기 (경사하강법)**"
   ]
  },
  {
   "cell_type": "markdown",
   "metadata": {},
   "source": [
    "기울기(gradient) of $J$  \n",
    "\n",
    "$\\qquad \\nabla_W J = \\left[ \\frac{\\partial J}{\\partial w_0}, \\frac{\\partial J}{\\partial w_1}, \\frac{\\partial J}{\\partial w_2} \\right]^T$\n"
   ]
  },
  {
   "cell_type": "markdown",
   "metadata": {},
   "source": [
    "$\\textbf{w}$의 갱신방법(학습법칙)을 행렬표기로 나타내면 \n",
    "![대체 텍스트](식5-5.JPG)\n",
    "$\\qquad$ where $\\alpha$ = 학습율(learning rate)\n"
   ]
  },
  {
   "cell_type": "markdown",
   "metadata": {},
   "source": [
    "Gradient를 구하기 위하여 $J$를 편미분 하여 다시 쓰면:\n",
    "\n",
    "$\\qquad w_0(t+1) = w_0(t) - \\alpha\\frac{2}{N}\\sum\\limits_{n=0}^{N-1}{(y_n-t_n)x_{n0}}$\n",
    "\n",
    "$\\qquad w_1(t+1) = w_1(t) - \\alpha\\frac{2}{N}\\sum\\limits_{n=0}^{N-1}{(y_n-t_n)x_{n1}}$\n",
    "\n",
    "$\\qquad w_2(t+1) = w_2(t) - \\alpha\\frac{2}{N}\\sum\\limits_{n=0}^{N-1}{(y_n-t_n)}$"
   ]
  },
  {
   "cell_type": "markdown",
   "metadata": {},
   "source": [
    "**실습문제**: 위의 2차원 입력데이터와 면(plane) 모델에 대해 평균제곱오차(mean square error) 함수와 경사하강법(gradient descent)을 이용해 최적의 면(plane) 함수를 구하시오."
   ]
  },
  {
   "cell_type": "code",
   "execution_count": null,
   "metadata": {},
   "outputs": [],
   "source": [
    "#면의 MSE -----------------------------------\n",
    "def mse_plane(x0, x1, t, w):\n",
    "    pass                 # 여기에 pass 대신에 적절한 코드를 입력하시오. 여러 라인이 될 수 있습니다.\n",
    "    return mse\n",
    "\n",
    "# 면의 평균 제곱 오차의 기울기 ------------------------\n",
    "def dmse_plane(x0, x1, t, w):\n",
    "    pass                 # 여기에 pass 대신에 적절한 코드를 입력하시오. 여러 라인이 될 수 있습니다.\n",
    "    return d_w0, d_w1, d_w2\n"
   ]
  },
  {
   "cell_type": "code",
   "execution_count": null,
   "metadata": {},
   "outputs": [],
   "source": [
    "print(mse_plane(X0, X1, T, [1, 1, 1]))  \n",
    "print(mse_plane(X0, X1, T, [1, 2, 3]))    \n",
    "print(mse_plane(X0, X1, T, [1, 2, 10]))    \n",
    "print(mse_plane(X0, X1, T, [1.5, 1, 90]))\n",
    "d_w = dmse_plane(X0, X1, T, [1.5, 1, 90])\n",
    "print(np.round(d_w, 1))"
   ]
  },
  {
   "cell_type": "code",
   "execution_count": null,
   "metadata": {},
   "outputs": [],
   "source": [
    "# 면의 경사하강법 ------------------------------------\n",
    "def fit_plane_num(x0, x1, t):\n",
    "    pass                 # 여기에 pass 대신에 적절한 코드를 입력하시오. 여러 라인이 될 수 있습니다.\n",
    "    return w0, w1, w2, dmse, w_i"
   ]
  },
  {
   "cell_type": "code",
   "execution_count": null,
   "metadata": {
    "scrolled": false
   },
   "outputs": [],
   "source": [
    "# 메인 ------------------------------------\n",
    "\n",
    "# 경사하강법 호출\n",
    "W0, W1, W2, dMSE, W_history = fit_plane_num(X0, X1, T)\n",
    "\n",
    "# 결과보기\n",
    "print('반복 횟수 {0}'.format(W_history.shape[0]))\n",
    "print('W=[{0:.6f}, {1:.6f}, {2:.6f}]'.format(W0, W1, W2))\n",
    "print('dMSE=[{0:.6f}, {1:.6f}, {2:.6f}]'.format(dMSE[0], dMSE[1], dMSE[2]))\n",
    "print('MSE={0:.6f}'.format(mse_plane(X0, X1, T, [W0, W1, W2])))\n"
   ]
  },
  {
   "cell_type": "code",
   "execution_count": null,
   "metadata": {},
   "outputs": [],
   "source": [
    "# 경사하강법으로 구한 W0, W1, W2를 이용해 면(plane)을 다시 그리기\n",
    "plt.figure(figsize=(12, 5))\n",
    "ax = plt.subplot(1, 2, 1, projection='3d')\n",
    "W = [1.5, 1, 90]    # 임의의 W\n",
    "plt.title(\"W = [1.5, 1, 90]\")\n",
    "show_plane(ax, W) \n",
    "ax.set_xlabel('$x_0$')\n",
    "ax.set_ylabel('$x_1$')\n",
    "show_data2(ax, X0, X1, T)\n",
    "mse = mse_plane(X0, X1, T, W)\n",
    "print(\"임의의 W에 대한 SD={0:.3f} cm\".format(np.sqrt(mse)))\n",
    "\n",
    "ax = plt.subplot(1, 2, 2, projection='3d')\n",
    "W = [W0, W1, W2]    # 경사하강법으로 구한 W\n",
    "plt.title(\"W by GD\")\n",
    "show_plane(ax, W) \n",
    "ax.set_xlabel('$x_0$')\n",
    "ax.set_ylabel('$x_1$')\n",
    "show_data2(ax, X0, X1, T)\n",
    "\n",
    "mse = mse_plane(X0, X1, T, W)\n",
    "print(\"경사하강법에 의한 SD={0:.3f} cm\".format(np.sqrt(mse)))\n",
    "\n",
    "plt.show()\n"
   ]
  },
  {
   "cell_type": "markdown",
   "metadata": {},
   "source": [
    "### 5.2.3 매개변수의 해석해 (생략)"
   ]
  },
  {
   "cell_type": "markdown",
   "metadata": {},
   "source": [
    "## 5.3 D차원 선형 회귀 모델"
   ]
  },
  {
   "cell_type": "markdown",
   "metadata": {},
   "source": [
    "$x_n$이 $M$ 차원이면\n",
    "![대체 텍스트](식5-24.JPG)\n",
    "모든 데이터에 대해서는\n",
    "![대체 텍스트](식5-25.JPG)\n",
    "차원 $m$에 대해서만 정렬\n",
    "![대체 텍스트](식5-26.JPG)\n",
    "Target vector는\n",
    "![대체 텍스트](식5-27.JPG)"
   ]
  },
  {
   "cell_type": "markdown",
   "metadata": {},
   "source": [
    "### 5.3.1 D차원 선형 회귀 모델"
   ]
  },
  {
   "cell_type": "markdown",
   "metadata": {},
   "source": [
    "![대체 텍스트](식5-37.JPG)\n",
    "\n",
    "모델을 쉽게 하기 위해 절편 $w_D$를 생략하면 \n",
    "![대체 텍스트](식5-38.JPG)\n",
    "위와 같이 항상 원점 $\\textbf{x}=[0,0,...,0]$을 지나는 hyperplane이 됨\n",
    "\n",
    "행렬 표기법을 사용하여 짧게 정리하면\n",
    "![대체 텍스트](식5-39.JPG)\n",
    "\n",
    "원점을 지나지 않는 hyperplane은 항상 $x_D=1$을 추가해서 $\\textbf{x}$를 $D+1$차원으로 확장하면\n",
    "\n",
    "$y(x) = w_0x_0+\\cdots+w_{D-1}x_{D-1}+w_Dx_D = [w_0 \\cdots w_D] \\begin{bmatrix} x_{0} \\\\ \\vdots \\\\ x_{D} \\end{bmatrix} = \\textbf{w}^T\\textbf{x}$"
   ]
  },
  {
   "cell_type": "markdown",
   "metadata": {},
   "source": [
    "### 5.3.2 매개 변수의 해석해 (이후 모두 생략)"
   ]
  }
 ],
 "metadata": {
  "kernelspec": {
   "display_name": "cuda",
   "language": "python",
   "name": "cuda"
  },
  "language_info": {
   "codemirror_mode": {
    "name": "ipython",
    "version": 3
   },
   "file_extension": ".py",
   "mimetype": "text/x-python",
   "name": "python",
   "nbconvert_exporter": "python",
   "pygments_lexer": "ipython3",
   "version": "3.6.8"
  }
 },
 "nbformat": 4,
 "nbformat_minor": 2
}
